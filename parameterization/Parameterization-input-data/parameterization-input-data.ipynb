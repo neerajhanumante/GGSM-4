{
 "cells": [
  {
   "cell_type": "markdown",
   "id": "a62fc917-3e08-4b8a-a75a-d63e16356a28",
   "metadata": {},
   "source": [
    "# Preparation\n",
    "Importing functions and common use data"
   ]
  },
  {
   "cell_type": "code",
   "execution_count": 1,
   "id": "4fe4a899-2dbb-491d-9edd-636a76b723d6",
   "metadata": {},
   "outputs": [],
   "source": [
    "# Importing the necessary functions\n",
    "# Required packages are imported from the functions module\n",
    "\n",
    "from zz_structured_code.code.config.config_imports import *\n",
    "from zz_structured_code.code.config.config_project_path import main_project_directory\n",
    "\n",
    "import os\n",
    "from zz_structured_code.code.local_functions.local_functions import remove_border, f_read_df\n",
    "\n",
    "import zz_structured_code.code.parameterization.parameterization as prmt\n",
    "df_country_codes = prmt.f_df_continents()"
   ]
  },
  {
   "cell_type": "markdown",
   "id": "21b1ae03-5b60-4acb-879f-795c9fb824e2",
   "metadata": {
    "tags": []
   },
   "source": [
    "# GDP data - SEDAC"
   ]
  },
  {
   "cell_type": "markdown",
   "id": "246572ce-2128-4aa8-96f6-5425cd85978c",
   "metadata": {
    "tags": []
   },
   "source": [
    "## Reading data - historical"
   ]
  },
  {
   "cell_type": "code",
   "execution_count": 2,
   "id": "0e7d1f46-4308-4fad-a9a6-a6187e7be733",
   "metadata": {},
   "outputs": [],
   "source": [
    "'''\n",
    "Historical GDP data is obtained from the following source.\n",
    "GDP, World Bank national accounts data, and OECD National Accounts data files. Accessed 25 Oct 2021\n",
    "https://data.worldbank.org/indicator/NY.GDP.MKTP.CD\n",
    "'''\n",
    "# Path creation\n",
    "directory_path = os.path.join(main_project_directory,\n",
    "                                'data',\n",
    "                                'input',)\n",
    "file_name = 'GDP-Historical.csv'\n",
    "\n",
    "# Reading file\n",
    "df = pd.read_csv(join(directory_path, file_name), sep=',', skip_blank_lines=True, skiprows=4)\n",
    "# df_gdp_countries = df\n",
    "# df_gdp_countries\n",
    "df.rename(columns={'Country Code':'Country code'}, inplace=True)\n",
    "df.set_index('Country code', inplace=True, drop=True)\n",
    "df.drop(columns=['Country Name', 'Indicator Name', 'Indicator Code', 'Unnamed: 65'], inplace=True)\n",
    "try:\n",
    "    df.columns = df.columns.values.astype(int)\n",
    "    pass\n",
    "except:\n",
    "    pass\n",
    "df.columns.name = 'Year'\n",
    "df.fillna(0, inplace=True)\n",
    "# df = df * 0.6\n",
    "df_gdp_historical = df"
   ]
  },
  {
   "cell_type": "markdown",
   "id": "51d4d45e-f6ac-43c2-9267-6210e41bb98c",
   "metadata": {
    "tags": []
   },
   "source": [
    "## Reading data - projections"
   ]
  },
  {
   "cell_type": "code",
   "execution_count": 3,
   "id": "895203f2-6558-4667-975a-252c06c27f4f",
   "metadata": {},
   "outputs": [],
   "source": [
    "'''\n",
    "GDP data is obtained from the following source for SRES A2.\n",
    "Gaffin, S.R., X. Xing, and G. Yetman. 2002. Country-Level GDP and Downscaled Projections Based on the SRES A1, A2, B1, and B2 Marker Scenarios, 1990-2100. Palisades, NY: NASA Socioeconomic Data and Applications Center (SEDAC). https://doi.org/10.7927/H4XW4GQ1. Accessed 27 Sep 2021\n",
    "'''\n",
    "# Path creation\n",
    "directory_path = os.path.join(main_project_directory,\n",
    "                                'data',\n",
    "                                'input',)\n",
    "file_name = 'GDP-Projections-nasa.csv'\n",
    "\n",
    "# Reading file\n",
    "df = pd.read_csv(join(directory_path, file_name), sep='\\t')\n",
    "df_gdp_projections = df"
   ]
  },
  {
   "cell_type": "code",
   "execution_count": 4,
   "id": "6e43941d-f17c-4381-8489-4bb4484b7392",
   "metadata": {},
   "outputs": [],
   "source": [
    "# Removing unnecessary columns\n",
    "try:\n",
    "    df.drop(['Name'], inplace=True, axis=1)\n",
    "    pass\n",
    "except:\n",
    "    pass\n",
    "\n",
    "try:\n",
    "    df = pd.merge(left=df_gdp_projections, right=df_country_codes, on='UN Code')\n",
    "    pass\n",
    "except:\n",
    "    pass\n",
    "\n",
    "try:\n",
    "    df.drop(columns=['Country', 'Continent', 'UN Code'], inplace=True)\n",
    "    pass\n",
    "except:\n",
    "    pass\n",
    "\n",
    "try:\n",
    "    df.set_index('Country code', inplace=True)\n",
    "    pass\n",
    "except:\n",
    "    pass\n",
    "\n",
    "try:\n",
    "    df.columns = df.columns.values.astype(int)\n",
    "    pass\n",
    "except:\n",
    "    pass\n",
    "\n",
    "df.fillna(0, inplace=True)\n",
    "df.columns.name = 'Year'\n",
    "df_gdp_projections = df"
   ]
  },
  {
   "cell_type": "markdown",
   "id": "0d9a4255-9daa-4e99-89f6-d55148b5ce77",
   "metadata": {},
   "source": [
    "## Joining historical data and projections"
   ]
  },
  {
   "cell_type": "code",
   "execution_count": 5,
   "id": "0988abe0-3e00-45da-80e2-8664be916e9a",
   "metadata": {},
   "outputs": [],
   "source": [
    "cols_to_use = list(df_gdp_historical.columns.difference(df_gdp_projections.columns))\n",
    "df_gdp_projections.columns\n",
    "df_gdp_countries = pd.merge(df_gdp_historical[cols_to_use], df_gdp_projections, \n",
    "                            left_index=True, right_index=True,\n",
    "                            how='inner')\n",
    "\n",
    "try:\n",
    "    df_gdp_countries.columns = df.columns.values.astype(int)\n",
    "    pass\n",
    "except:\n",
    "    pass\n",
    "df_gdp_countries.sort_values(by='Year', axis=1, inplace=True)\n",
    "df = df_gdp_countries.copy()"
   ]
  },
  {
   "cell_type": "markdown",
   "id": "cbdca2cf-6f78-40fa-8dcd-15d4976bedf2",
   "metadata": {},
   "source": [
    "## Extrapolating"
   ]
  },
  {
   "cell_type": "code",
   "execution_count": 6,
   "id": "8cc657d2-d173-471e-9c37-9ad890a995ca",
   "metadata": {},
   "outputs": [
    {
     "name": "stderr",
     "output_type": "stream",
     "text": [
      "/home/neeraj/Documents/0_anaconda3/lib/python3.7/site-packages/pandas/core/reshape/merge.py:121: PerformanceWarning: DataFrame is highly fragmented.  This is usually the result of calling `frame.insert` many times, which has poor performance.  Consider joining all columns at once using pd.concat(axis=1) instead.  To get a de-fragmented frame, use `newframe = frame.copy()`\n",
      "  return op.get_result()\n"
     ]
    }
   ],
   "source": [
    "df_extrapolated = prmt.f_extrapolate_backward_forward_df(df)\n",
    "\n",
    "merge_column = 'Country code'\n",
    "# df_gdp_countries_continents = prmt.f_distribution(df_extrapolated, df_country_codes, merge_column)\n",
    "\n",
    "df_local = prmt.f_absolute_projections(df_extrapolated, df_country_codes, merge_column)\n",
    "df_local.columns.name = 'Year'\n",
    "df_absolute_gdp = df_local.T\n",
    "df_local = df_local.T\n",
    "df_absolute_gdp.drop('World', axis=1, inplace=True)"
   ]
  },
  {
   "cell_type": "markdown",
   "id": "82aea2c3-d6de-4375-a07d-66712fffda2a",
   "metadata": {},
   "source": [
    "# Population data\n",
    "<a id='subsec:population'></a>"
   ]
  },
  {
   "cell_type": "code",
   "execution_count": 7,
   "id": "c2c96afa-6947-41fa-b788-7ae1ae755f5c",
   "metadata": {},
   "outputs": [],
   "source": [
    "'''\n",
    "The population data is obtained from the following sources: \n",
    "\n",
    "upto 2020: \n",
    "        United Nations, Department of Economic and Social Affairs, Population Division (2019). \n",
    "        Probabilistic Population Projections Rev. 1 based on the World Population Prospects 2019 Rev. 1: http://population.un.org/wpp/  \n",
    "        accessed on 30 Sep 2021\n",
    "\n",
    "2020 onwards: \n",
    "        United Nations, Department of Economic and Social Affairs, Population Division (2019). \n",
    "        World Population Prospects 2019, Online Edition. Rev. 1.  \n",
    "        accessed on 30 Sep 2021\n",
    "'''\n",
    "\n",
    "# Creating path\n",
    "directory_path = os.path.join(main_project_directory,\n",
    "                              'data',\n",
    "                              'input',)\n",
    "file_name = 'UN-Population-distribution.csv'\n",
    "\n",
    "# Reading file\n",
    "df = pd.read_csv(join(directory_path, file_name), sep='\\t')\n",
    "\n",
    "# Indexing and renaming\n",
    "df.set_index('Year', inplace=True)\n",
    "df.rename(columns={'Latin America and the Caribbean':'South America', 'Northern America':\n",
    "                  'North America'}, inplace=True)\n",
    "\n",
    "df.columns.name = 'Country code'\n",
    "df.index.name = 'Year'\n",
    "df = df.T\n",
    "\n",
    "# Assigning new namespace and obtaining contribution of the continent\n",
    "df_population_projections_contribution = df.divide(df.loc['World', :], axis=1)*100\n",
    "\n",
    "df.drop('World', axis=0, inplace=True)\n",
    "df_extrapolated = prmt.f_extrapolate_backward_forward_df(df)\n",
    "df_absolute_population = df_extrapolated.T * 1000 # converting the thousands data to individual count"
   ]
  },
  {
   "cell_type": "markdown",
   "id": "cf07d689-bb8d-4ba7-8872-0139b4384d74",
   "metadata": {},
   "source": [
    "# GDP per capita"
   ]
  },
  {
   "cell_type": "code",
   "execution_count": 8,
   "id": "fb2d15bb-8a7b-44c0-8d80-8c0efdf5e9a8",
   "metadata": {},
   "outputs": [],
   "source": [
    "df1 = df_absolute_gdp.copy()\n",
    "df1 = df1.rename_axis(None, axis=1)\n",
    "df1 = df1.rename_axis(None, axis=0)\n",
    "df1.index = df1.index.rename(None)\n",
    "df2 = df_absolute_population.copy()\n",
    "df2 = df2.rename_axis(None, axis=1)\n",
    "df2 = df2.rename_axis(None, axis=0)\n",
    "df2.index = df2.index.rename(None)\n",
    "\n",
    "df2 = df2[['Africa', 'Asia', 'Europe', 'South America', 'North America',\n",
    "       'Oceania']]"
   ]
  },
  {
   "cell_type": "code",
   "execution_count": 9,
   "id": "52cdff28-ba60-48e5-8068-0ba284d7dbb1",
   "metadata": {},
   "outputs": [
    {
     "data": {
      "text/plain": [
       "'Constant 2010 USD GDP per capita over the entire time horizon for each continent'"
      ]
     },
     "metadata": {},
     "output_type": "display_data"
    },
    {
     "data": {
      "text/plain": [
       "Africa            1733\n",
       "Asia              4100\n",
       "Europe           27367\n",
       "North America    46318\n",
       "Oceania          23841\n",
       "South America     5425\n",
       "dtype: int64"
      ]
     },
     "execution_count": 9,
     "metadata": {},
     "output_type": "execute_result"
    }
   ],
   "source": [
    "df = df1.div(df2)\n",
    "df.replace(np.inf, np.nan, inplace=True)\n",
    "\n",
    "display('Constant 2010 USD GDP per capita over the entire time horizon for each continent')\n",
    "df = df.mean(axis=0).astype('int')\n",
    "df"
   ]
  },
  {
   "cell_type": "markdown",
   "id": "eceb8572-2599-4294-bf55-39337b2f24d7",
   "metadata": {},
   "source": [
    "# Availability per capita per day"
   ]
  },
  {
   "cell_type": "code",
   "execution_count": 10,
   "id": "aa479b13-c3f2-417f-ac7a-4bfc1c0a1fce",
   "metadata": {},
   "outputs": [
    {
     "data": {
      "text/plain": [
       "'Water availability liters per capita over the entire time horizon for each continent'"
      ]
     },
     "metadata": {},
     "output_type": "display_data"
    },
    {
     "data": {
      "text/plain": [
       "Africa           1450\n",
       "Asia             1172\n",
       "Europe           3774\n",
       "North America    8487\n",
       "Oceania          9462\n",
       "South America    8348\n",
       "dtype: int64"
      ]
     },
     "execution_count": 10,
     "metadata": {},
     "output_type": "execute_result"
    }
   ],
   "source": [
    "# Denominator\n",
    "# --- --- ---  --- --- ---  --- --- ---  --- --- ---  --- --- ---  --- --- --- #\n",
    "df1 = df_absolute_population.copy()\n",
    "df1 = df1.rename_axis(None, axis=1)\n",
    "df1 = df1.rename_axis(None, axis=0)\n",
    "df1.index = df1.index.rename(None)\n",
    "df1 = df1[['Africa', 'Asia',  'Europe', 'North America', 'Oceania', 'South America']]\n",
    "df1 = df1.T\n",
    "\n",
    "# Numerator\n",
    "# --- --- ---  --- --- ---  --- --- ---  --- --- ---  --- --- ---  --- --- --- #\n",
    "df2 = df1.copy()\n",
    "# fraction of global water available for:\n",
    "# 'Africa', 'Asia',  'Europe', 'North America', 'Oceania', 'South America'\n",
    "l_availability = [0.09, 0.284, 0.152, 0.170, 0.0210, 0.283]\n",
    "\n",
    "l_availability = [x * 135e12/7 for x in l_availability]\n",
    "# df2[1950] = l_availability\n",
    "for column in df2.columns:\n",
    "    df2[column] = l_availability  # Availability per day\n",
    "\n",
    "# Division\n",
    "# --- --- ---  --- --- ---  --- --- ---  --- --- ---  --- --- ---  --- --- --- #\n",
    "df_out = df2.div(df1, axis=0)\n",
    "# df_out = df1.mul(df2, axis=0)\n",
    "# df_out = df_out\n",
    "n_years_skip = 15\n",
    "l_years_skip = [1950+x for x in range(n_years_skip)]\n",
    "l_columns = [x for x in df_out.columns if x not in l_years_skip]\n",
    "df_out = df_out[l_columns]\n",
    "df_out.replace(np.inf, np.nan, inplace=True)\n",
    "# display(df_out)\n",
    "\n",
    "display('Water availability liters per capita over the entire time horizon for each continent')\n",
    "\n",
    "df = df_out.mean(axis=1).astype('int')\n",
    "df\n"
   ]
  },
  {
   "cell_type": "code",
   "execution_count": null,
   "id": "6f112b64-0603-479a-a071-a8c117eecf1c",
   "metadata": {},
   "outputs": [],
   "source": []
  }
 ],
 "metadata": {
  "kernelspec": {
   "display_name": "Python 3 (ipykernel)",
   "language": "python",
   "name": "python3"
  },
  "language_info": {
   "codemirror_mode": {
    "name": "ipython",
    "version": 3
   },
   "file_extension": ".py",
   "mimetype": "text/x-python",
   "name": "python",
   "nbconvert_exporter": "python",
   "pygments_lexer": "ipython3",
   "version": "3.7.13"
  },
  "toc-autonumbering": true,
  "toc-showcode": false,
  "toc-showmarkdowntxt": false,
  "toc-showtags": false
 },
 "nbformat": 4,
 "nbformat_minor": 5
}
